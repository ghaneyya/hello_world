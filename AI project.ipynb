{
 "cells": [
  {
   "cell_type": "code",
   "execution_count": 1,
   "metadata": {},
   "outputs": [],
   "source": [
    "import cv2\n",
    "import matplotlib.image as im\n",
    "import numpy\n",
    "import matplotlib.pyplot as plt"
   ]
  },
  {
   "cell_type": "code",
   "execution_count": 6,
   "metadata": {},
   "outputs": [
    {
     "name": "stdout",
     "output_type": "stream",
     "text": [
      "167\n",
      "['Readme.txt', 'subject01.gif', 'subject01.glasses', 'subject01.glasses.gif', 'subject01.happy', 'subject01.leftlight', 'subject01.noglasses', 'subject01.normal', 'subject01.rightlight', 'subject01.sad', 'subject01.sleepy', 'subject01.surprised', 'subject01.wink', 'subject02.centerlight', 'subject02.glasses', 'subject02.happy', 'subject02.leftlight', 'subject02.noglasses', 'subject02.normal', 'subject02.rightlight', 'subject02.sad', 'subject02.sleepy', 'subject02.surprised', 'subject02.wink', 'subject03.centerlight', 'subject03.glasses', 'subject03.happy', 'subject03.leftlight', 'subject03.noglasses', 'subject03.normal', 'subject03.rightlight', 'subject03.sad', 'subject03.sleepy', 'subject03.surprised', 'subject03.wink', 'subject04.centerlight', 'subject04.glasses', 'subject04.happy', 'subject04.leftlight', 'subject04.noglasses', 'subject04.normal', 'subject04.rightlight', 'subject04.sad', 'subject04.sleepy', 'subject04.surprised', 'subject04.wink', 'subject05.centerlight', 'subject05.glasses', 'subject05.happy', 'subject05.leftlight', 'subject05.noglasses', 'subject05.normal', 'subject05.rightlight', 'subject05.sad', 'subject05.sleepy', 'subject05.surprised', 'subject05.wink', 'subject06.centerlight', 'subject06.glasses', 'subject06.happy', 'subject06.leftlight', 'subject06.noglasses', 'subject06.normal', 'subject06.rightlight', 'subject06.sad', 'subject06.sleepy', 'subject06.surprised', 'subject06.wink', 'subject07.centerlight', 'subject07.glasses', 'subject07.happy', 'subject07.leftlight', 'subject07.noglasses', 'subject07.normal', 'subject07.rightlight', 'subject07.sad', 'subject07.sleepy', 'subject07.surprised', 'subject07.wink', 'subject08.centerlight', 'subject08.glasses', 'subject08.happy', 'subject08.leftlight', 'subject08.noglasses', 'subject08.normal', 'subject08.rightlight', 'subject08.sad', 'subject08.sleepy', 'subject08.surprised', 'subject08.wink', 'subject09.centerlight', 'subject09.glasses', 'subject09.happy', 'subject09.leftlight', 'subject09.noglasses', 'subject09.normal', 'subject09.rightlight', 'subject09.sad', 'subject09.sleepy', 'subject09.surprised', 'subject09.wink', 'subject10.centerlight', 'subject10.glasses', 'subject10.happy', 'subject10.leftlight', 'subject10.noglasses', 'subject10.normal', 'subject10.rightlight', 'subject10.sad', 'subject10.sleepy', 'subject10.surprised', 'subject10.wink', 'subject11.centerlight', 'subject11.glasses', 'subject11.happy', 'subject11.leftlight', 'subject11.noglasses', 'subject11.normal', 'subject11.rightlight', 'subject11.sad', 'subject11.sleepy', 'subject11.surprised', 'subject11.wink', 'subject12.centerlight', 'subject12.glasses', 'subject12.happy', 'subject12.leftlight', 'subject12.noglasses', 'subject12.normal', 'subject12.rightlight', 'subject12.sad', 'subject12.sleepy', 'subject12.surprised', 'subject12.wink', 'subject13.centerlight', 'subject13.glasses', 'subject13.happy', 'subject13.leftlight', 'subject13.noglasses', 'subject13.normal', 'subject13.rightlight', 'subject13.sad', 'subject13.sleepy', 'subject13.surprised', 'subject13.wink', 'subject14.centerlight', 'subject14.glasses', 'subject14.happy', 'subject14.leftlight', 'subject14.noglasses', 'subject14.normal', 'subject14.rightlight', 'subject14.sad', 'subject14.sleepy', 'subject14.surprised', 'subject14.wink', 'subject15.centerlight', 'subject15.glasses', 'subject15.happy', 'subject15.leftlight', 'subject15.noglasses', 'subject15.normal', 'subject15.rightlight', 'subject15.sad', 'subject15.sleepy', 'subject15.surprised', 'subject15.wink']\n"
     ]
    }
   ],
   "source": [
    "import os\n",
    "folder1 = r\"C:\\Users\\user\\Downloads\\yalefaces\\yalefaces\"\n",
    "file_names = os.listdir(folder)\n",
    "print(len(file_names))\n",
    "print(file_names)"
   ]
  },
  {
   "cell_type": "code",
   "execution_count": null,
   "metadata": {},
   "outputs": [],
   "source": [
    "# load all the images and store them into an array\n",
    "fd = cv2.CascadeClassifier(\"kaizen_training/kaizen/haarcascade_frontalface_alt.xml\")\n",
    "def load_image(imgname):\n",
    "    img = im.imread(folder+'\\\\'+imgname,'PNG') # load the image\n",
    "    corners = fd.detectMultiScale(img,1.3,4) # get the face corners\n",
    "    (x,y,w,h) = corners[0] # get the face corners\n",
    "    img = img[y-20:y+h+20,x-20:x+w+20]  # cropping the face area from the image\n",
    "    img = cv2.resize(img,(100,100)) # resizing every image to 100x100\n",
    "    return img"
   ]
  },
  {
   "cell_type": "code",
   "execution_count": null,
   "metadata": {},
   "outputs": [],
   "source": [
    "trainimg = []\n",
    "trainlb = []\n",
    "for imgname in file_names:\n",
    "    img = load_image(imgname)\n",
    "    trainimg.append(img)\n",
    "    trainlb.append(imgname[10:-4])"
   ]
  },
  {
   "cell_type": "code",
   "execution_count": null,
   "metadata": {},
   "outputs": [],
   "source": [
    "trainimg = numpy.array(trainimg)\n",
    "trainimg.shape"
   ]
  },
  {
   "cell_type": "code",
   "execution_count": null,
   "metadata": {},
   "outputs": [],
   "source": []
  }
 ],
 "metadata": {
  "kernelspec": {
   "display_name": "Python 3",
   "language": "python",
   "name": "python3"
  },
  "language_info": {
   "codemirror_mode": {
    "name": "ipython",
    "version": 3
   },
   "file_extension": ".py",
   "mimetype": "text/x-python",
   "name": "python",
   "nbconvert_exporter": "python",
   "pygments_lexer": "ipython3",
   "version": "3.7.0"
  }
 },
 "nbformat": 4,
 "nbformat_minor": 2
}
